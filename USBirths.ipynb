{
 "cells": [
  {
   "cell_type": "code",
   "execution_count": 1,
   "metadata": {
    "collapsed": false
   },
   "outputs": [
    {
     "name": "stdout",
     "output_type": "stream",
     "text": [
      "['year,month,date_of_month,day_of_week,births', '1994,1,1,6,8096', '1994,1,2,7,7772', '1994,1,3,1,10142', '1994,1,4,2,11248', '1994,1,5,3,11053', '1994,1,6,4,11406', '1994,1,7,5,11251', '1994,1,8,6,8653', '1994,1,9,7,7910']\n"
     ]
    }
   ],
   "source": [
    "f = open(\"US_births_1994-2003_CDC_NCHS.csv\", 'r')\n",
    "data = f.read()\n",
    "births = data.split(\"\\n\")\n",
    "print(births[0:10])"
   ]
  },
  {
   "cell_type": "code",
   "execution_count": 9,
   "metadata": {
    "collapsed": false
   },
   "outputs": [
    {
     "name": "stdout",
     "output_type": "stream",
     "text": [
      "[[1994, 1, 1, 6, 8096], [1994, 1, 1, 6, 8096], [1994, 1, 1, 6, 8096], [1994, 1, 1, 6, 8096], [1994, 1, 1, 6, 8096], [1994, 1, 2, 7, 7772], [1994, 1, 2, 7, 7772], [1994, 1, 2, 7, 7772], [1994, 1, 2, 7, 7772], [1994, 1, 2, 7, 7772]]\n"
     ]
    }
   ],
   "source": [
    "def read_csv(file_name):\n",
    "    f = open(file_name).read()\n",
    "    fs = f.split(\"\\n\")\n",
    "    string_list = fs[1:len(fs)]\n",
    "    final_list = []\n",
    "    for i in string_list:\n",
    "        int_fields = []\n",
    "        string_fields = i.split(\",\")\n",
    "        for a in string_fields:\n",
    "            int_fields.append(int(a))\n",
    "            final_list.append(int_fields)\n",
    "    return final_list\n",
    "cdc_list = read_csv(\"US_births_1994-2003_CDC_NCHS.csv\")\n",
    "print(cdc_list[0:10])\n",
    "    "
   ]
  },
  {
   "cell_type": "code",
   "execution_count": 15,
   "metadata": {
    "collapsed": false
   },
   "outputs": [
    {
     "name": "stdout",
     "output_type": "stream",
     "text": [
      "{1: 16162585, 2: 15090700, 3: 16610345, 4: 15926570, 5: 16754535, 6: 16482650, 7: 17493915, 8: 17629290, 9: 17198490, 10: 16894070, 11: 15858235, 12: 16509300}\n"
     ]
    }
   ],
   "source": [
    "def month_births(list):\n",
    "    births_per_month = {}\n",
    "    for i in list:\n",
    "        month = i[1]\n",
    "        births = i[4]\n",
    "        if month in births_per_month:\n",
    "            births_per_month[month] = births_per_month[month] + births\n",
    "        else:\n",
    "            births_per_month[month] = births\n",
    "    return births_per_month\n",
    "cdc_month_births = month_births(cdc_list)\n",
    "print(cdc_month_births)"
   ]
  },
  {
   "cell_type": "code",
   "execution_count": 16,
   "metadata": {
    "collapsed": false
   },
   "outputs": [
    {
     "name": "stdout",
     "output_type": "stream",
     "text": [
      "{1: 28945830, 2: 32230980, 3: 31614275, 4: 31442145, 5: 31168285, 6: 22810555, 7: 20398615}\n"
     ]
    }
   ],
   "source": [
    "def dow_births(data):\n",
    "    day_of_week = {}\n",
    "    for i in data:\n",
    "        day = i[3]\n",
    "        births = i[4]\n",
    "        if day in day_of_week:\n",
    "            day_of_week[day] = day_of_week[day] + births\n",
    "        else:\n",
    "            day_of_week[day] = births\n",
    "    return day_of_week\n",
    "cdc_day_births = dow_births(cdc_list)\n",
    "print(cdc_day_births)"
   ]
  },
  {
   "cell_type": "code",
   "execution_count": 18,
   "metadata": {
    "collapsed": false
   },
   "outputs": [
    {
     "name": "stdout",
     "output_type": "stream",
     "text": [
      "{2000: 20294070, 2001: 20129665, 2002: 20108630, 2003: 20449750, 1994: 19763835, 1995: 19497945, 1996: 19457470, 1997: 19404470, 1998: 19707765, 1999: 19797085}\n",
      "{1: 16162585, 2: 15090700, 3: 16610345, 4: 15926570, 5: 16754535, 6: 16482650, 7: 17493915, 8: 17629290, 9: 17198490, 10: 16894070, 11: 15858235, 12: 16509300}\n",
      "{1: 6382785, 2: 6443695, 3: 6522495, 4: 6440770, 5: 6499765, 6: 6522370, 7: 6552295, 8: 6561485, 9: 6516460, 10: 6603820, 11: 6571805, 12: 6592185, 13: 6388420, 14: 6600765, 15: 6595855, 16: 6575960, 17: 6624765, 18: 6634275, 19: 6593635, 20: 6624105, 21: 6614485, 22: 6586905, 23: 6466450, 24: 6440415, 25: 6360580, 26: 6423980, 27: 6471975, 28: 6538425, 29: 6115805, 30: 6010475, 31: 3733480}\n",
      "{1: 28945830, 2: 32230980, 3: 31614275, 4: 31442145, 5: 31168285, 6: 22810555, 7: 20398615}\n"
     ]
    }
   ],
   "source": [
    "def calc_counts(data, column):\n",
    "    dict = {}\n",
    "    for i in data:\n",
    "        col = i[column]\n",
    "        births = i[4]\n",
    "        if col in dict:\n",
    "            dict[col] = dict[col] + births\n",
    "        else:\n",
    "            dict[col] = births\n",
    "    return dict\n",
    "cdc_year_births = calc_counts(cdc_list, 0)\n",
    "cdc_month_births = calc_counts(cdc_list, 1)\n",
    "cdc_dom_births = calc_counts(cdc_list, 2)\n",
    "cdc_dow_births = calc_counts(cdc_list, 3)\n",
    "print(cdc_year_births)\n",
    "print(cdc_month_births)\n",
    "print(cdc_dom_births)\n",
    "print(cdc_dow_births)"
   ]
  },
  {
   "cell_type": "code",
   "execution_count": null,
   "metadata": {
    "collapsed": true
   },
   "outputs": [],
   "source": []
  }
 ],
 "metadata": {
  "anaconda-cloud": {},
  "kernelspec": {
   "display_name": "Python 3",
   "language": "python",
   "name": "python3"
  },
  "language_info": {
   "codemirror_mode": {
    "name": "ipython",
    "version": 3
   },
   "file_extension": ".py",
   "mimetype": "text/x-python",
   "name": "python",
   "nbconvert_exporter": "python",
   "pygments_lexer": "ipython3",
   "version": "3.4.3"
  }
 },
 "nbformat": 4,
 "nbformat_minor": 1
}
